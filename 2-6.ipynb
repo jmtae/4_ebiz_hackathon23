{
 "cells": [
  {
   "cell_type": "code",
   "execution_count": null,
   "id": "14a0f735",
   "metadata": {
    "scrolled": true
   },
   "outputs": [
    {
     "name": "stdout",
     "output_type": "stream",
     "text": [
      "스페인어를 입력하세요: ㄴㅁㅇ\n",
      "제한된 문자 범위를 벗어나는 문자가 포함되어 있습니다. 다시 입력하세요.\n",
      "다시 입력하세요: ㅁㄴㅇ\n",
      "제한된 문자 범위를 벗어나는 문자가 포함되어 있습니다. 다시 입력하세요.\n"
     ]
    }
   ],
   "source": [
    "def count_chars_in_spanish(input_spanish):\n",
    "    allowed_input = \"abcdefghijklmnopqrstuvwxyz,~.\"\n",
    "    \n",
    "    # 입력 문자열을 소문자로 변환( 대문자가 입력 되어도 소문자로 변환하도록 하였다.)\n",
    "    input_spanish = input_spanish.lower()\n",
    "    \n",
    "    # 제한된 문자 범위를 벗어나는 문자가 있는지 확인\n",
    "    if any(char not in allowed_input for char in input_spanish):\n",
    "        print(\"제한된 문자 범위를 벗어나는 문자가 포함되어 있습니다. 다시 입력하세요.\")\n",
    "        return None\n",
    "    \n",
    "    # 확장문자를 하나로 체크하도록\n",
    "    replacements = {\n",
    "        \"a,\": \"a\",\n",
    "        \"e,\": \"e\",\n",
    "        \"i,\": \"i\",\n",
    "        \"n~\": \"n\",\n",
    "        \"o,\": \"o\",\n",
    "        \"u,\": \"u\",\n",
    "        \"u,,\": \"u\"\n",
    "    }\n",
    "    \n",
    "    for key, value in replacements.items():\n",
    "        input_spanish = input_spanish.replace(key, value)\n",
    "    \n",
    "    count = sum(1 for char in input_spanish if char in allowed_input if char.isalpha())\n",
    "    \n",
    "    return input_spanish, count\n",
    "\n",
    "# 스페인어 입력\n",
    "spanish_input = input(\"스페인어를 입력하세요: \")\n",
    "\n",
    "# 사용자가 올바른 문자열을 입력할 때까지 반복\n",
    "while True:\n",
    "    result = count_chars_in_spanish(spanish_input)\n",
    "    if result is not None:\n",
    "        transformed_spanish_input, char_count = result\n",
    "        print(f\"스페인 알파벳 개수는 {char_count}개 입니다.\")\n",
    "        break\n",
    "    spanish_input = input(\"다시 입력하세요: \")"
   ]
  },
  {
   "cell_type": "code",
   "execution_count": null,
   "id": "3601ca26",
   "metadata": {},
   "outputs": [],
   "source": []
  }
 ],
 "metadata": {
  "kernelspec": {
   "display_name": "Python 3 (ipykernel)",
   "language": "python",
   "name": "python3"
  },
  "language_info": {
   "codemirror_mode": {
    "name": "ipython",
    "version": 3
   },
   "file_extension": ".py",
   "mimetype": "text/x-python",
   "name": "python",
   "nbconvert_exporter": "python",
   "pygments_lexer": "ipython3",
   "version": "3.11.4"
  }
 },
 "nbformat": 4,
 "nbformat_minor": 5
}
