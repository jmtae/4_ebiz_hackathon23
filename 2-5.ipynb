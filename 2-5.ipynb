{
 "cells": [
  {
   "cell_type": "markdown",
   "id": "8bbbaf3c",
   "metadata": {},
   "source": [
    "# 1번"
   ]
  },
  {
   "cell_type": "code",
   "execution_count": 4,
   "id": "633377c6",
   "metadata": {},
   "outputs": [
    {
     "name": "stdout",
     "output_type": "stream",
     "text": [
      "*******\n",
      " *****\n",
      "  ***\n",
      "   *\n"
     ]
    }
   ],
   "source": [
    "n = 4  # 역 피라미드의 높이\n",
    "\n",
    "for i in range(n, 0, -1):\n",
    "    # 공백을 출력합니다.\n",
    "    for j in range(n - i):\n",
    "        print(\" \", end=\"\")\n",
    "    \n",
    "    # 별표를 출력합니다.\n",
    "    for k in range(2 * i - 1):\n",
    "        print(\"*\", end=\"\")\n",
    "    \n",
    "    # 줄 바꿈을 추가합니다.\n",
    "    print()"
   ]
  },
  {
   "cell_type": "markdown",
   "id": "f4a0382d",
   "metadata": {},
   "source": [
    "# 2번"
   ]
  },
  {
   "cell_type": "code",
   "execution_count": 5,
   "id": "8055014f",
   "metadata": {},
   "outputs": [
    {
     "name": "stdout",
     "output_type": "stream",
     "text": [
      "********\n",
      " ******\n",
      "  ****\n",
      "   **\n",
      "   **\n",
      "  ****\n",
      " ******\n",
      "********\n"
     ]
    }
   ],
   "source": [
    "n = 8  # 모래시계의 높이\n",
    "\n",
    "# 모래시계 상단 부분 \n",
    "for i in range(n, 0, -2):\n",
    "    row = \" \" * ((n - i) // 2) + \"*\" * i\n",
    "    print(row)\n",
    "\n",
    "# 모래시계 하단 부분 \n",
    "for i in range(2, n + 1, 2):\n",
    "    row = \" \" * ((n - i) // 2) + \"*\" * i\n",
    "    print(row)"
   ]
  },
  {
   "cell_type": "markdown",
   "id": "a8678dd4",
   "metadata": {},
   "source": [
    "# 3번"
   ]
  },
  {
   "cell_type": "code",
   "execution_count": 2,
   "id": "4751f44e",
   "metadata": {},
   "outputs": [
    {
     "name": "stdout",
     "output_type": "stream",
     "text": [
      "**********\n",
      "*        *\n",
      "*        *\n",
      "*        *\n",
      "**********\n"
     ]
    }
   ],
   "source": [
    "width = 10  # 가로 길이 설정\n",
    "height = 9 # 세로 길이 설정\n",
    "for i in range(1, 10, 2):  # 세로 길이가 홀수인 경우만 반복\n",
    "    if i == 1 or i == height:\n",
    "        print(\"*\" * width)\n",
    "    else:\n",
    "        spaces = \" \" * (width - 2)\n",
    "        row = \"*\" + spaces + \"*\"\n",
    "        print(row)"
   ]
  },
  {
   "cell_type": "code",
   "execution_count": null,
   "id": "2de2c978",
   "metadata": {},
   "outputs": [],
   "source": []
  }
 ],
 "metadata": {
  "kernelspec": {
   "display_name": "Python 3 (ipykernel)",
   "language": "python",
   "name": "python3"
  },
  "language_info": {
   "codemirror_mode": {
    "name": "ipython",
    "version": 3
   },
   "file_extension": ".py",
   "mimetype": "text/x-python",
   "name": "python",
   "nbconvert_exporter": "python",
   "pygments_lexer": "ipython3",
   "version": "3.11.4"
  }
 },
 "nbformat": 4,
 "nbformat_minor": 5
}
